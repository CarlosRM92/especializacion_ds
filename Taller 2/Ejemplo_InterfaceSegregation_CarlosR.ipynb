{
 "cells": [
  {
   "cell_type": "markdown",
   "metadata": {},
   "source": [
    "# Ejercicio Sábado 27 - Carlos Rodriguez"
   ]
  },
  {
   "cell_type": "markdown",
   "metadata": {},
   "source": [
    "### Interface Segregation"
   ]
  },
  {
   "cell_type": "markdown",
   "metadata": {},
   "source": [
    "#### Forma Incorrecta de Hacerlo"
   ]
  },
  {
   "cell_type": "code",
   "execution_count": 7,
   "metadata": {},
   "outputs": [],
   "source": [
    "class Student:\n",
    "    def __init__(self, name: str, semester: int, career: str) -> None:\n",
    "        self.name: str = name\n",
    "        self.semester: int = semester\n",
    "        self.career: str = career\n",
    "\n",
    "    def get_name(self) -> str:\n",
    "        return self.name\n",
    "\n",
    "    def print_student_status(self) -> None:\n",
    "        attendance_status = \"asistió\" if self.get_attendance_record() else \"no asistió\"\n",
    "        print(f\"El estudiante {self.name} cursa: {self.career}, y está en el {self.semester} semestre. El estudiante {attendance_status} a clases.\")\n",
    "\n",
    "    def get_attendance_record(self) -> bool:\n",
    "        return False  # Por defecto, un estudiante no tiene registro de asistencia\n",
    "\n",
    "\n",
    "class AttendanceStudent(Student):\n",
    "    def __init__(self, name: str, semester: int, career: str, attended: bool) -> None:\n",
    "        super().__init__(name, semester, career)\n",
    "        self.attended: bool = attended\n",
    "\n",
    "    def get_attendance_record(self) -> bool:\n",
    "        return self.attended\n",
    "\n",
    "\n",
    "def print_students_status(students: list) -> None:\n",
    "    for student in students:\n",
    "        student.print_student_status()\n"
   ]
  },
  {
   "cell_type": "code",
   "execution_count": 8,
   "metadata": {},
   "outputs": [
    {
     "name": "stdout",
     "output_type": "stream",
     "text": [
      "Estado de todos los estudiantes:\n",
      "El estudiante Carlos cursa: Electrónica, y está en el 5 semestre. El estudiante no asistió a clases.\n",
      "El estudiante Juan cursa: Mecatrónica, y está en el 6 semestre. El estudiante asistió a clases.\n"
     ]
    }
   ],
   "source": [
    "students = [\n",
    "    Student(\"Carlos\", 5, \"Electrónica\"),\n",
    "    AttendanceStudent(\"Juan\", 6, \"Mecatrónica\", True)\n",
    "]\n",
    "\n",
    "print(\"Estado de todos los estudiantes:\")\n",
    "print_students_status(students)"
   ]
  },
  {
   "cell_type": "markdown",
   "metadata": {},
   "source": [
    "#### Forma Correcta de Hacerlo"
   ]
  },
  {
   "cell_type": "code",
   "execution_count": 11,
   "metadata": {},
   "outputs": [],
   "source": [
    "from abc import ABC, abstractmethod\n",
    "\n",
    "class Student(ABC):\n",
    "    @abstractmethod\n",
    "    def get_name(self) -> str:\n",
    "        pass\n",
    "\n",
    "    @abstractmethod\n",
    "    def print_student_status(self) -> None:\n",
    "        pass\n",
    "\n",
    "\n",
    "class RegularStudent(Student):\n",
    "    def __init__(self, name: str, semester: int, career: str) -> None:\n",
    "        self.name: str = name\n",
    "        self.semester: int = semester\n",
    "        self.career: str = career\n",
    "\n",
    "    def get_name(self) -> str:\n",
    "        return self.name\n",
    "\n",
    "    def print_student_status(self) -> None:\n",
    "        print(f\"El estudiante {self.name} cursa: {self.career}, y está en el {self.semester} semestre.\")\n",
    "\n",
    "class AttendanceRecord(ABC):\n",
    "    @abstractmethod\n",
    "    def get_attendance_record(self) -> bool:\n",
    "        pass\n",
    "\n",
    "class AttendanceStudent(Student, AttendanceRecord):\n",
    "    def __init__(self, name: str, semester: int, career: str, attended: bool) -> None:\n",
    "        self.name: str = name\n",
    "        self.semester: int = semester\n",
    "        self.career: str = career\n",
    "        self.attended: bool = attended\n",
    "\n",
    "    def get_name(self) -> str:\n",
    "        return self.name\n",
    "\n",
    "    def get_attendance_record(self) -> bool:\n",
    "        return self.attended\n",
    "\n",
    "    def print_student_status(self) -> None:\n",
    "        attendance_status = \"asistió\" if self.get_attendance_record() else \"no asistió\"\n",
    "        print(f\"El estudiante {self.name} cursa: {self.career}, y está en el {self.semester} semestre. El estudiante {attendance_status} a clases.\")\n",
    "\n",
    "\n",
    "def print_students_status(students: list) -> None:\n",
    "    for student in students:\n",
    "        student.print_student_status()"
   ]
  },
  {
   "cell_type": "code",
   "execution_count": 13,
   "metadata": {},
   "outputs": [
    {
     "name": "stdout",
     "output_type": "stream",
     "text": [
      "Estado de todos los estudiantes:\n",
      "El estudiante Carlos cursa: Electrónica, y está en el 5 semestre.\n",
      "El estudiante Juan cursa: Mecatrónica, y está en el 6 semestre. El estudiante asistió a clases.\n",
      "El estudiante Felipe cursa: Biología, y está en el 2 semestre. El estudiante no asistió a clases.\n"
     ]
    }
   ],
   "source": [
    "students = [\n",
    "    RegularStudent(\"Carlos\", 5, \"Electrónica\"),\n",
    "    AttendanceStudent(\"Juan\", 6, \"Mecatrónica\", True),\n",
    "    AttendanceStudent(\"Felipe\", 2, \"Biología\", False)\n",
    "]\n",
    "\n",
    "print(\"Estado de todos los estudiantes:\")\n",
    "print_students_status(students)"
   ]
  }
 ],
 "metadata": {
  "kernelspec": {
   "display_name": "Python 3",
   "language": "python",
   "name": "python3"
  },
  "language_info": {
   "codemirror_mode": {
    "name": "ipython",
    "version": 3
   },
   "file_extension": ".py",
   "mimetype": "text/x-python",
   "name": "python",
   "nbconvert_exporter": "python",
   "pygments_lexer": "ipython3",
   "version": "3.10.13"
  }
 },
 "nbformat": 4,
 "nbformat_minor": 2
}

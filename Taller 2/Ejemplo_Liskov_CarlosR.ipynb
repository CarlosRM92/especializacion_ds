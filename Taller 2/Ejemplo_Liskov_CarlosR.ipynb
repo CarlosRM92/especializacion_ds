{
 "cells": [
  {
   "cell_type": "markdown",
   "metadata": {},
   "source": [
    "# Ejercicio Sábado 27 - Carlos Rodriguez"
   ]
  },
  {
   "cell_type": "markdown",
   "metadata": {},
   "source": [
    "### LISKOV"
   ]
  },
  {
   "cell_type": "markdown",
   "metadata": {},
   "source": [
    "#### Forma Incorrecta de Hacerlo"
   ]
  },
  {
   "cell_type": "code",
   "execution_count": 7,
   "metadata": {},
   "outputs": [],
   "source": [
    "class Student:\n",
    "    def __init__(self, name: str, semester: int, career: str) -> None:\n",
    "        self.name: str = name\n",
    "        self.semester: int = semester\n",
    "        self.career: str = career\n",
    "\n",
    "    def get_name(self) -> str:\n",
    "        return self.name\n",
    "\n",
    "    def print_student_status(self) -> None:\n",
    "        print(f\"El estudiante {self.name} cursa: {self.career}, y está en el {self.semester} semestre.\")\n",
    "\n",
    "\n",
    "class AttendanceStudent(Student):\n",
    "    def __init__(self, name: str, semester: int, career: str, attended: bool) -> None:\n",
    "        super().__init__(name, semester, career)\n",
    "        self.attended: bool = attended\n",
    "\n",
    "    def get_attendance_record(self) -> bool:\n",
    "        return self.attended\n",
    "\n",
    "\n",
    "def print_students_status(students: list) -> None:\n",
    "    for student in students:\n",
    "        if isinstance(student, AttendanceStudent):\n",
    "            attendance_status = \"asistió\" if student.attended else \"no asistió\"\n",
    "            print(f\"El estudiante {student.get_name()} cursa: {student.career}, y está en el {student.semester} semestre. {attendance_status} a clases.\")\n",
    "        else:\n",
    "            student.print_student_status()\n"
   ]
  },
  {
   "cell_type": "code",
   "execution_count": 9,
   "metadata": {},
   "outputs": [
    {
     "name": "stdout",
     "output_type": "stream",
     "text": [
      "Estado de todos los estudiantes:\n",
      "El estudiante Carlos cursa: Electrónica, y está en el 5 semestre.\n",
      "El estudiante Maria cursa: Informática, y está en el 4 semestre.\n",
      "El estudiante Juan cursa: Mecatrónica, y está en el 6 semestre. asistió a clases.\n",
      "El estudiante Susi cursa: Psicología, y está en el 3 semestre. no asistió a clases.\n"
     ]
    }
   ],
   "source": [
    "students = [\n",
    "    Student(\"Carlos\", 5, \"Electrónica\"),\n",
    "    Student(\"Maria\", 4, \"Informática\"),\n",
    "    AttendanceStudent(\"Juan\", 6, \"Mecatrónica\", True),\n",
    "    AttendanceStudent(\"Susi\", 3, \"Psicología\", False)\n",
    "]\n",
    "\n",
    "print(\"Estado de todos los estudiantes:\")\n",
    "print_students_status(students)"
   ]
  },
  {
   "cell_type": "markdown",
   "metadata": {},
   "source": [
    "#### Forma Correcta de Hacerlo"
   ]
  },
  {
   "cell_type": "code",
   "execution_count": 3,
   "metadata": {},
   "outputs": [],
   "source": [
    "class Student:\n",
    "    def __init__(self, name: str, semester: int, career: str) -> None:\n",
    "        self.name: str = name\n",
    "        self.semester: int = semester\n",
    "        self.career: str = career\n",
    "\n",
    "    def get_name(self) -> str:\n",
    "        return self.name\n",
    "\n",
    "    def print_student_status(self) -> None:\n",
    "        print(f\"El estudiante {self.name} cursa: {self.career}, y está en el {self.semester} semestre.\")\n",
    "\n",
    "\n",
    "class AttendanceStudent(Student):\n",
    "    def __init__(self, name: str, semester: int, career: str, attended: bool) -> None:\n",
    "        super().__init__(name, semester, career)\n",
    "        self.attended: bool = attended\n",
    "\n",
    "    def get_attendance_record(self) -> bool:\n",
    "        return self.attended\n",
    "\n",
    "\n",
    "def print_students_status(students: list) -> None:\n",
    "    for student in students:\n",
    "        student.print_student_status()\n"
   ]
  },
  {
   "cell_type": "code",
   "execution_count": 4,
   "metadata": {},
   "outputs": [
    {
     "name": "stdout",
     "output_type": "stream",
     "text": [
      "Estado de todos los estudiantes:\n",
      "El estudiante Carlos cursa: Electrónica, y está en el 5 semestre.\n",
      "El estudiante Maria cursa: Informática, y está en el 4 semestre.\n",
      "El estudiante Juan cursa: Mecatrónica, y está en el 6 semestre.\n"
     ]
    }
   ],
   "source": [
    "students = [\n",
    "    Student(\"Carlos\", 5, \"Electrónica\"),\n",
    "    Student(\"Maria\", 4, \"Informática\"),\n",
    "    AttendanceStudent(\"Juan\", 6, \"Mecatrónica\", True)\n",
    "]\n",
    "\n",
    "print(\"Estado de todos los estudiantes:\")\n",
    "print_students_status(students)"
   ]
  }
 ],
 "metadata": {
  "kernelspec": {
   "display_name": "Python 3",
   "language": "python",
   "name": "python3"
  },
  "language_info": {
   "codemirror_mode": {
    "name": "ipython",
    "version": 3
   },
   "file_extension": ".py",
   "mimetype": "text/x-python",
   "name": "python",
   "nbconvert_exporter": "python",
   "pygments_lexer": "ipython3",
   "version": "3.10.13"
  }
 },
 "nbformat": 4,
 "nbformat_minor": 2
}

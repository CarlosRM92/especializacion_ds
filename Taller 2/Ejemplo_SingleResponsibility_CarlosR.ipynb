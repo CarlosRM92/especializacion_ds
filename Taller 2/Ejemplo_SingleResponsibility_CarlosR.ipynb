{
 "cells": [
  {
   "cell_type": "markdown",
   "metadata": {},
   "source": [
    "# Ejercicio Viernes 26 - Carlos Rodriguez"
   ]
  },
  {
   "cell_type": "markdown",
   "metadata": {},
   "source": [
    "### Single Responsibility"
   ]
  },
  {
   "cell_type": "markdown",
   "metadata": {},
   "source": [
    "#### Estudiante y apartar salon de Clases"
   ]
  },
  {
   "cell_type": "markdown",
   "metadata": {},
   "source": [
    "#### Forma incorrecta de hacerlo"
   ]
  },
  {
   "cell_type": "code",
   "execution_count": 5,
   "metadata": {},
   "outputs": [],
   "source": [
    "class Student:\n",
    "    def __init__(self, name: str, semester: int, career: str) -> None:\n",
    "        self.name: str = name\n",
    "        self.semester: int = semester\n",
    "        self.career: str = career\n",
    "        self.attended: bool = False\n",
    "\n",
    "    def get_name(self) -> str:\n",
    "        return self.name\n",
    "\n",
    "    def set_attendance_record(self, attended: bool) -> None:\n",
    "        self.attended = attended\n",
    "\n",
    "    def get_attendance_record(self) -> bool:\n",
    "        return self.attended\n",
    "\n",
    "    def print_attendance_status(self) -> None:\n",
    "        attendance_status = \"asistió\" if self.attended else \"no asistió\"\n",
    "        print(f\"Confirmación de asistencia: El estudiante {self.get_name()} {attendance_status} a clases.\")\n",
    "\n",
    "    def print_Student_status(self) -> None:\n",
    "         print(f\"El estudiante {self.get_name()} cursa: {self.career} , y esta en: {self.semester} semestre.\")\n"
   ]
  },
  {
   "cell_type": "code",
   "execution_count": 6,
   "metadata": {},
   "outputs": [
    {
     "name": "stdout",
     "output_type": "stream",
     "text": [
      "El estudiante Carlos cursa: Electronica , y esta en: 7 semestre.\n",
      "Confirmación de asistencia: El estudiante Carlos no asistió a clases.\n"
     ]
    }
   ],
   "source": [
    "student = Student(\"Carlos\", 7, \"Electronica\")\n",
    "attended = False\n",
    "student.set_attendance_record(attended)\n",
    "student.print_Student_status()\n",
    "student.print_attendance_status()"
   ]
  },
  {
   "cell_type": "markdown",
   "metadata": {},
   "source": [
    "#### Formar Correcta de Hacerlo"
   ]
  },
  {
   "cell_type": "code",
   "execution_count": 11,
   "metadata": {},
   "outputs": [],
   "source": [
    "class Student:\n",
    "    def __init__(self, name: str, semester: int, career: str) -> None:\n",
    "        self.name: str = name\n",
    "        self.semester: int = semester\n",
    "        self.career: str = career\n",
    "\n",
    "    def get_name(self) -> str:\n",
    "        return self.name\n",
    "\n",
    "    def print_student_status(self) -> None:\n",
    "        print(f\"Estado del estudiante:  El estudiante {self.name} cursa, {self.career}, y está en el {self.semester} semestre.\")\n",
    "\n",
    "\n",
    "\n",
    "class Attendance:\n",
    "    def __init__(self, student: Student, attended: bool) -> None:\n",
    "        self.student: Student = student\n",
    "        self.attended: bool = attended\n",
    "\n",
    "    def get_attendance_record(self) -> bool:\n",
    "        return self.attended\n",
    "\n",
    "    def print_attendance_status(self) -> None:\n",
    "        attendance_status = \"asistió\" if self.attended else \"no asistió\"\n",
    "        print(f\"Confirmación de asistencia: El estudiante {self.student.get_name()} {attendance_status} a clases.\")\n"
   ]
  },
  {
   "cell_type": "code",
   "execution_count": 12,
   "metadata": {},
   "outputs": [
    {
     "name": "stdout",
     "output_type": "stream",
     "text": [
      "Estado del estudiante:  El estudiante Carlos cursa, Electrónica, y está en el 5 semestre.\n",
      "Confirmación de asistencia: El estudiante Carlos no asistió a clases.\n"
     ]
    }
   ],
   "source": [
    "student = Student(\"Carlos\", 5, \"Electrónica\")\n",
    "attended = False\n",
    "student_attendance = Attendance(student, attended)\n",
    "\n",
    "student.print_student_status()\n",
    "student_attendance.print_attendance_status()"
   ]
  }
 ],
 "metadata": {
  "kernelspec": {
   "display_name": "Python 3",
   "language": "python",
   "name": "python3"
  },
  "language_info": {
   "codemirror_mode": {
    "name": "ipython",
    "version": 3
   },
   "file_extension": ".py",
   "mimetype": "text/x-python",
   "name": "python",
   "nbconvert_exporter": "python",
   "pygments_lexer": "ipython3",
   "version": "3.10.13"
  }
 },
 "nbformat": 4,
 "nbformat_minor": 2
}

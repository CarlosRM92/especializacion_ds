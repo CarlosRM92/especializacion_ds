{
 "cells": [
  {
   "cell_type": "markdown",
   "metadata": {},
   "source": [
    "# Ejercicio Sábado 27 - Carlos Rodriguez"
   ]
  },
  {
   "cell_type": "markdown",
   "metadata": {},
   "source": [
    "### Interface Segregation"
   ]
  },
  {
   "cell_type": "markdown",
   "metadata": {},
   "source": [
    "### Forma Incorrecta de Hacerlo"
   ]
  },
  {
   "cell_type": "code",
   "execution_count": 3,
   "metadata": {},
   "outputs": [],
   "source": [
    "from abc import ABC, abstractmethod\n",
    "from typing import List\n",
    "\n",
    "\n",
    "class Student(ABC):\n",
    "    @abstractmethod\n",
    "    def get_name(self) -> str:\n",
    "        pass\n",
    "\n",
    "    @abstractmethod\n",
    "    def print_student_status(self) -> None:\n",
    "        pass\n",
    "\n",
    "\n",
    "class RegularStudent(Student):\n",
    "    def __init__(self, name: str, semester: int, career: str) -> None:\n",
    "        self.name: str = name\n",
    "        self.semester: int = semester\n",
    "        self.career: str = career\n",
    "\n",
    "    def get_name(self) -> str:\n",
    "        return self.name\n",
    "\n",
    "    def print_student_status(self) -> None:\n",
    "        print(f\"El estudiante {self.name} cursa: {self.career}, y está en el {self.semester} semestre.\")\n",
    "\n",
    "\n",
    "class AttendanceRecord(ABC):\n",
    "    @abstractmethod\n",
    "    def get_attendance_record(self) -> bool:\n",
    "        pass\n",
    "\n",
    "\n",
    "class AttendanceStudent(Student, AttendanceRecord):\n",
    "    def __init__(self, name: str, semester: int, career: str, attended: bool) -> None:\n",
    "        self.name: str = name\n",
    "        self.semester: int = semester\n",
    "        self.career: str = career\n",
    "        self.attended: bool = attended\n",
    "\n",
    "    def get_name(self) -> str:\n",
    "        return self.name\n",
    "\n",
    "    def get_attendance_record(self) -> bool:\n",
    "        return self.attended\n",
    "\n",
    "    def print_student_status(self) -> None:\n",
    "        attendance_status = \"asistió\" if self.get_attendance_record() else \"no asistió\"\n",
    "        print(f\"El estudiante {self.name} cursa: {self.career}, y está en el {self.semester} semestre. El estudiante {attendance_status} a clases.\")\n",
    "\n",
    "\n",
    "class MemoryStudentRepository:\n",
    "    def __init__(self):\n",
    "        self.students: List[Student] = []\n",
    "\n",
    "    def save_student(self, student: Student) -> None:\n",
    "        self.students.append(student)\n",
    "\n",
    "    def get_students(self) -> List[Student]:\n",
    "        return self.students\n",
    "\n",
    "\n",
    "class StudentService:\n",
    "    def __init__(self) -> None:\n",
    "        self.student_repository = MemoryStudentRepository()\n",
    "\n",
    "    def add_student(self, student: Student) -> None:\n",
    "        self.student_repository.save_student(student)\n",
    "\n",
    "    def print_all_students(self) -> None:\n",
    "        students = self.student_repository.get_students()\n",
    "        print(\"Listado de estudiantes:\")\n",
    "        for student in students:\n",
    "            student.print_student_status()"
   ]
  },
  {
   "cell_type": "code",
   "execution_count": 4,
   "metadata": {},
   "outputs": [
    {
     "name": "stdout",
     "output_type": "stream",
     "text": [
      "Listado de estudiantes:\n",
      "El estudiante Carlos cursa: Electrónica, y está en el 5 semestre.\n",
      "El estudiante Juan cursa: Mecatrónica, y está en el 6 semestre. El estudiante asistió a clases.\n",
      "El estudiante Felipe cursa: Biología, y está en el 2 semestre. El estudiante asistió a clases.\n"
     ]
    }
   ],
   "source": [
    "student_service = StudentService()\n",
    "\n",
    "student_service.add_student(RegularStudent(\"Carlos\", 5, \"Electrónica\"))\n",
    "student_service.add_student(AttendanceStudent(\"Juan\", 6, \"Mecatrónica\", True))\n",
    "student_service.add_student(AttendanceStudent(\"Felipe\", 2, \"Biología\", True))\n",
    "\n",
    "student_service.print_all_students()"
   ]
  },
  {
   "cell_type": "markdown",
   "metadata": {},
   "source": [
    "#### Forma Correcta de Hacerlo"
   ]
  },
  {
   "cell_type": "code",
   "execution_count": 5,
   "metadata": {},
   "outputs": [],
   "source": [
    "from abc import ABC, abstractmethod\n",
    "from typing import List, Optional\n",
    "\n",
    "\n",
    "class Student(ABC):\n",
    "    @abstractmethod\n",
    "    def get_name(self) -> str:\n",
    "        pass\n",
    "\n",
    "    @abstractmethod\n",
    "    def print_student_status(self) -> None:\n",
    "        pass\n",
    "\n",
    "\n",
    "class StudentRepository(ABC):\n",
    "    @abstractmethod\n",
    "    def save_student(self, student: Student) -> None:\n",
    "        pass\n",
    "\n",
    "    @abstractmethod\n",
    "    def get_students(self) -> List[Student]:\n",
    "        pass\n",
    "\n",
    "\n",
    "class RegularStudent(Student):\n",
    "    def __init__(self, name: str, semester: int, career: str) -> None:\n",
    "        self.name: str = name\n",
    "        self.semester: int = semester\n",
    "        self.career: str = career\n",
    "\n",
    "    def get_name(self) -> str:\n",
    "        return self.name\n",
    "\n",
    "    def print_student_status(self) -> None:\n",
    "        print(f\"El estudiante {self.name} cursa: {self.career}, y está en el {self.semester} semestre.\")\n",
    "\n",
    "\n",
    "class AttendanceRecord(ABC):\n",
    "    @abstractmethod\n",
    "    def get_attendance_record(self) -> bool:\n",
    "        pass\n",
    "\n",
    "\n",
    "class AttendanceStudent(Student, AttendanceRecord):\n",
    "    def __init__(self, name: str, semester: int, career: str, attended: bool) -> None:\n",
    "        self.name: str = name\n",
    "        self.semester: int = semester\n",
    "        self.career: str = career\n",
    "        self.attended: bool = attended\n",
    "\n",
    "    def get_name(self) -> str:\n",
    "        return self.name\n",
    "\n",
    "    def get_attendance_record(self) -> bool:\n",
    "        return self.attended\n",
    "\n",
    "    def print_student_status(self) -> None:\n",
    "        attendance_status = \"asistió\" if self.get_attendance_record() else \"no asistió\"\n",
    "        print(f\"El estudiante {self.name} cursa: {self.career}, y está en el {self.semester} semestre. El estudiante {attendance_status} a clases.\")\n"
   ]
  },
  {
   "cell_type": "code",
   "execution_count": 6,
   "metadata": {},
   "outputs": [],
   "source": [
    "class MemoryStudentRepository(StudentRepository):\n",
    "    def __init__(self):\n",
    "        self.students: List[Student] = []\n",
    "\n",
    "    def save_student(self, student: Student) -> None:\n",
    "        self.students.append(student)\n",
    "\n",
    "    def get_students(self) -> List[Student]:\n",
    "        return self.students"
   ]
  },
  {
   "cell_type": "code",
   "execution_count": 7,
   "metadata": {},
   "outputs": [],
   "source": [
    "class StudentService:\n",
    "    def __init__(self, student_repository: StudentRepository) -> None:\n",
    "        self.student_repository = student_repository\n",
    "\n",
    "    def add_student(self, student: Student) -> None:\n",
    "        self.student_repository.save_student(student)\n",
    "\n",
    "    def print_all_students(self) -> None:\n",
    "        students = self.student_repository.get_students()\n",
    "        print(\"Listado de estudiantes:\")\n",
    "        for student in students:\n",
    "            student.print_student_status()"
   ]
  },
  {
   "cell_type": "code",
   "execution_count": 8,
   "metadata": {},
   "outputs": [
    {
     "name": "stdout",
     "output_type": "stream",
     "text": [
      "Listado de estudiantes:\n",
      "El estudiante Carlos cursa: Electrónica, y está en el 5 semestre.\n",
      "El estudiante Juan cursa: Mecatrónica, y está en el 6 semestre. El estudiante asistió a clases.\n",
      "El estudiante Felipe cursa: Biología, y está en el 2 semestre. El estudiante asistió a clases.\n"
     ]
    }
   ],
   "source": [
    "repository = MemoryStudentRepository()\n",
    "student_service = StudentService(repository)\n",
    "\n",
    "student_service.add_student(RegularStudent(\"Carlos\", 5, \"Electrónica\"))\n",
    "student_service.add_student(AttendanceStudent(\"Juan\", 6, \"Mecatrónica\", True))\n",
    "student_service.add_student(AttendanceStudent(\"Felipe\", 2, \"Biología\", True))\n",
    "\n",
    "student_service.print_all_students()"
   ]
  }
 ],
 "metadata": {
  "kernelspec": {
   "display_name": "Python 3",
   "language": "python",
   "name": "python3"
  },
  "language_info": {
   "codemirror_mode": {
    "name": "ipython",
    "version": 3
   },
   "file_extension": ".py",
   "mimetype": "text/x-python",
   "name": "python",
   "nbconvert_exporter": "python",
   "pygments_lexer": "ipython3",
   "version": "3.10.13"
  }
 },
 "nbformat": 4,
 "nbformat_minor": 2
}

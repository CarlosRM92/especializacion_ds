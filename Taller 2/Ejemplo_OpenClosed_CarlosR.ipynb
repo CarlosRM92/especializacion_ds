{
 "cells": [
  {
   "cell_type": "markdown",
   "metadata": {},
   "source": [
    "# Ejercicio Viernes 26 - Carlos Rodriguez"
   ]
  },
  {
   "cell_type": "markdown",
   "metadata": {},
   "source": [
    "### Open_closed"
   ]
  },
  {
   "cell_type": "code",
   "execution_count": 3,
   "metadata": {},
   "outputs": [],
   "source": [
    "class Student:\n",
    "    def __init__(self, name: str, semester: int, career: str) -> None:\n",
    "        self.name: str = name\n",
    "        self.semester: int = semester\n",
    "        self.career: str = career\n",
    "\n",
    "    def get_name(self) -> str:\n",
    "        return self.name\n",
    "\n",
    "    def print_student_status(self) -> None:\n",
    "        print(f\"El estudiante {self.name} cursa: {self.career}, y está en el {self.semester} semestre.\")\n",
    "\n",
    "\n",
    "class Attendance:\n",
    "    def __init__(self, student: Student, attended: bool) -> None:\n",
    "        self.student: Student = student\n",
    "        self.attended: bool = attended\n",
    "\n",
    "    def get_attendance_record(self) -> bool:\n",
    "        return self.attended\n",
    "\n",
    "    def print_attendance_status(self) -> None:\n",
    "        attendance_status = \"asistió\" if self.attended else \"no asistió\"\n",
    "        print(f\"Confirmación de asistencia: El estudiante {self.student.get_name()} {attendance_status} a clases.\")\n",
    "\n",
    "class AttendanceCalculator:\n",
    "    @staticmethod\n",
    "    def calculate_average_attendance(attendances: list) -> float:\n",
    "        total_students = len(attendances)\n",
    "        if total_students == 0:\n",
    "            return 0.0\n",
    "\n",
    "        total_attended = sum(1 for attendance in attendances if attendance.get_attendance_record())\n",
    "        average_attendance = (total_attended / total_students) * 100\n",
    "\n",
    "        print(\"Lista de estudiantes que asistieron:\")\n",
    "        for attendance in attendances:\n",
    "            if attendance.get_attendance_record():\n",
    "                print(attendance.student.get_name())\n",
    "\n",
    "        return average_attendance"
   ]
  },
  {
   "cell_type": "code",
   "execution_count": 4,
   "metadata": {},
   "outputs": [
    {
     "name": "stdout",
     "output_type": "stream",
     "text": [
      "Lista de estudiantes que asistieron:\n",
      "Carlos\n",
      "Maria\n",
      "El promedio de asistencia del grupo es: 66.67%\n"
     ]
    }
   ],
   "source": [
    "students = [\n",
    "    Student(\"Carlos\", 5, \"Electrónica\"),\n",
    "    Student(\"Maria\", 4, \"Informática\"),\n",
    "    Student(\"Juan\", 6, \"Mecatrónica\")\n",
    "]\n",
    "\n",
    "attendances = [\n",
    "    Attendance(students[0], True),\n",
    "    Attendance(students[1], True),\n",
    "    Attendance(students[2], False)\n",
    "]\n",
    "\n",
    "average_attendance = AttendanceCalculator.calculate_average_attendance(attendances)\n",
    "print(f\"El promedio de asistencia del grupo es: {average_attendance:.2f}%\")"
   ]
  }
 ],
 "metadata": {
  "kernelspec": {
   "display_name": "Python 3",
   "language": "python",
   "name": "python3"
  },
  "language_info": {
   "codemirror_mode": {
    "name": "ipython",
    "version": 3
   },
   "file_extension": ".py",
   "mimetype": "text/x-python",
   "name": "python",
   "nbconvert_exporter": "python",
   "pygments_lexer": "ipython3",
   "version": "3.10.13"
  }
 },
 "nbformat": 4,
 "nbformat_minor": 2
}

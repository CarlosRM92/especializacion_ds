{
 "cells": [
  {
   "cell_type": "markdown",
   "metadata": {},
   "source": [
    "## Ejercicio Sabado 20 - Carlos Rodriguez"
   ]
  },
  {
   "cell_type": "markdown",
   "metadata": {},
   "source": [
    "## Abstracción"
   ]
  },
  {
   "cell_type": "markdown",
   "metadata": {},
   "source": [
    "#### Tipo de Salon"
   ]
  },
  {
   "cell_type": "code",
   "execution_count": 1,
   "metadata": {},
   "outputs": [],
   "source": [
    "class ClassRoom:\n",
    "    def __init__(self, numeroSillas: int, tipoDeSalon: str, videoBeam: str, Tablero:str) -> None:\n",
    "        self.numeroSillas = numeroSillas\n",
    "        self.tipoDeSalon = tipoDeSalon\n",
    "        self.videoBeam = videoBeam\n",
    "        self.Tablero = Tablero\n",
    "\n",
    "\n",
    "    def tipoSalon(self) -> None:\n",
    "        print(f\"El salon es de tipo {self.tipoDeSalon} \")\n",
    "\n",
    "    def reservarSalon(self, numeroSalon: int) -> None:\n",
    "        print(f\"el salon {numeroSalon} ha sido reservado\")\n",
    "\n",
    "\n",
    "    def __str__(self) -> str:\n",
    "        return f\"El salon tiene {self.numeroSillas} sillas, Es un {self.tipoDeSalon}, {self.videoBeam} cuenta con videobeamn, {self.Tablero} cuenta con tablero\"\n",
    "\n",
    "\n"
   ]
  },
  {
   "cell_type": "code",
   "execution_count": 2,
   "metadata": {},
   "outputs": [
    {
     "name": "stdout",
     "output_type": "stream",
     "text": [
      "El salon tiene 20 sillas, Es un Tecnologia, Si cuenta con videobeamn, No cuenta con tablero\n",
      "El salon es de tipo Tecnologia \n"
     ]
    }
   ],
   "source": [
    "Salon = ClassRoom(numeroSillas=20, tipoDeSalon=\"Tecnologia\", videoBeam=\"Si\", Tablero=\"No\")\n",
    "print(Salon)\n",
    "Salon.tipoSalon()"
   ]
  },
  {
   "cell_type": "markdown",
   "metadata": {},
   "source": [
    "#### Reserva de salon"
   ]
  },
  {
   "cell_type": "code",
   "execution_count": 8,
   "metadata": {},
   "outputs": [],
   "source": [
    "class ClassRoom:\n",
    "    def __init__(self, idSalon: int) -> None:\n",
    "        self.idSalon = idSalon\n",
    "\n",
    "\n",
    "    def reservaSalon(self, numSalon: int) -> None:\n",
    "        print(f\"El salón {numSalon} fue apartado con éxito\")\n",
    "\n",
    "    def __str__(self) -> str:\n",
    "        return f\"{self.idSalon} es un salón disponible\""
   ]
  },
  {
   "cell_type": "code",
   "execution_count": 9,
   "metadata": {},
   "outputs": [
    {
     "name": "stdout",
     "output_type": "stream",
     "text": [
      "28 es un salón disponible\n",
      "El salón 28 fue apartado con éxito\n"
     ]
    }
   ],
   "source": [
    "Salon1 = ClassRoom(idSalon=28)\n",
    "print(Salon1)\n",
    "Salon1.reservaSalon(numSalon=28)"
   ]
  }
 ],
 "metadata": {
  "kernelspec": {
   "display_name": "Python 3",
   "language": "python",
   "name": "python3"
  },
  "language_info": {
   "codemirror_mode": {
    "name": "ipython",
    "version": 3
   },
   "file_extension": ".py",
   "mimetype": "text/x-python",
   "name": "python",
   "nbconvert_exporter": "python",
   "pygments_lexer": "ipython3",
   "version": "3.10.13"
  }
 },
 "nbformat": 4,
 "nbformat_minor": 2
}

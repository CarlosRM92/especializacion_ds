{
 "cells": [
  {
   "cell_type": "markdown",
   "metadata": {},
   "source": [
    "## Ejercicio Sabado 20 - Carlos Rodriguez"
   ]
  },
  {
   "cell_type": "markdown",
   "metadata": {},
   "source": [
    "### Interfaz y Herencia\n"
   ]
  },
  {
   "cell_type": "markdown",
   "metadata": {},
   "source": [
    "#### Celulares"
   ]
  },
  {
   "cell_type": "code",
   "execution_count": 10,
   "metadata": {},
   "outputs": [],
   "source": [
    "from abc import ABC, abstractmethod\n",
    "\n",
    "class Celulares:\n",
    "    def __init__(self, Pantalla: str, Antena: str, Camara: int) -> None:\n",
    "        self.Pantalla = Pantalla\n",
    "        self.Antena = Antena\n",
    "        self.Camara = Camara\n",
    "\n",
    "    @abstractmethod\n",
    "    def Llamar(self) -> None:\n",
    "        pass\n",
    "\n",
    "    @abstractmethod\n",
    "    def cogerSeñal(self) -> None:\n",
    "        pass\n",
    "\n",
    "    @abstractmethod\n",
    "    def tomarFoto(self) -> None:\n",
    "        pass\n"
   ]
  },
  {
   "cell_type": "code",
   "execution_count": 11,
   "metadata": {},
   "outputs": [],
   "source": [
    "class Pocophone(Celulares):\n",
    "    def __init__(self, Tecnologia:str, Procesador: str, Pantalla: str, Antena: str, Camara: int) -> None:\n",
    "        super().__init__(Pantalla = Pantalla, Antena = Antena, Camara = Camara)\n",
    "        self.Tecnologia = Tecnologia\n",
    "        self.Procesador = Procesador\n",
    "\n",
    "    def Tecnologia_5G(self) -> None:\n",
    "        print(f\"El celular tiene tecnologia  {self.Tecnologia} \")\n",
    "\n",
    "    def Procesador_8(self) -> None:\n",
    "        print(f\"El celular tiene procesador  {self.Procesador} \")"
   ]
  },
  {
   "cell_type": "code",
   "execution_count": 13,
   "metadata": {},
   "outputs": [
    {
     "name": "stdout",
     "output_type": "stream",
     "text": [
      "El celular tiene tecnologia  Cinco G \n",
      "El celular tiene tecnologia  Snadragon \n"
     ]
    }
   ],
   "source": [
    "Mi_Cel = Pocophone(\"Cinco G\", \"Snapdragon\", \"LED\", \"fm\", 200)\n",
    "Mi_Cel.Tecnologia_5G()\n",
    "Mi_Cel.Procesador_8()"
   ]
  }
 ],
 "metadata": {
  "kernelspec": {
   "display_name": "Python 3",
   "language": "python",
   "name": "python3"
  },
  "language_info": {
   "codemirror_mode": {
    "name": "ipython",
    "version": 3
   },
   "file_extension": ".py",
   "mimetype": "text/x-python",
   "name": "python",
   "nbconvert_exporter": "python",
   "pygments_lexer": "ipython3",
   "version": "3.10.13"
  }
 },
 "nbformat": 4,
 "nbformat_minor": 2
}

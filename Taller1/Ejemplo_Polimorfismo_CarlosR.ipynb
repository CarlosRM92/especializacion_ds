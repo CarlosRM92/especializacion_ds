{
 "cells": [
  {
   "cell_type": "markdown",
   "metadata": {},
   "source": [
    "## Ejercicio Sabado 20 - Carlos Rodriguez"
   ]
  },
  {
   "cell_type": "markdown",
   "metadata": {},
   "source": [
    "### Polimorfismo"
   ]
  },
  {
   "cell_type": "code",
   "execution_count": 12,
   "metadata": {},
   "outputs": [],
   "source": [
    "from abc import ABC, abstractmethod\n",
    "\n",
    "class Celulares:\n",
    "    def __init__(self, Pantalla: str, Antena: str, Camara: int) -> None:\n",
    "        self.Pantalla = Pantalla\n",
    "        self.Antena = Antena\n",
    "        self.Camara = Camara\n",
    "\n",
    "    @abstractmethod\n",
    "    def Llamar(self) -> None:\n",
    "        pass\n",
    "\n",
    "    @abstractmethod\n",
    "    def cogerSeñal(self) -> None:\n",
    "        pass\n",
    "\n",
    "    @abstractmethod\n",
    "    def tomarFoto(self) -> None:\n",
    "        pass\n"
   ]
  },
  {
   "cell_type": "code",
   "execution_count": 13,
   "metadata": {},
   "outputs": [],
   "source": [
    "class Pocophone(Celulares):\n",
    "    def __init__(self, Tecnologia:str, Procesador: str, Pantalla: str, Antena: str, Camara: int) -> None:\n",
    "        super().__init__(Pantalla = Pantalla, Antena = Antena, Camara = Camara)\n",
    "        self.Tecnologia = Tecnologia\n",
    "        self.Procesador = Procesador\n",
    "\n",
    "    def tomarFoto(self) -> str:\n",
    "       print(f\"La camara es de {self.Camara} Megapixeles\")\n",
    "\n",
    "    def Tecnologia_5G(self) -> None:\n",
    "        print(f\"El celular tiene tecnologia  {self.Tecnologia} \")\n",
    "\n",
    "    def Procesador_8(self) -> None:\n",
    "        print(f\"El celular tiene procesador  {self.Procesador} \")"
   ]
  },
  {
   "cell_type": "code",
   "execution_count": 14,
   "metadata": {},
   "outputs": [],
   "source": [
    "class Iphone(Celulares):\n",
    "    def __init__(self, Tecnologia:str, Procesador: str, Pantalla: str, Antena: str, Camara: int) -> None:\n",
    "        super().__init__(Pantalla = Pantalla, Antena = Antena, Camara = Camara)\n",
    "        self.Tecnologia = Tecnologia\n",
    "        self.Procesador = Procesador\n",
    "\n",
    "    def tomarFoto(self) -> str:\n",
    "       print(f\"La camara es de {self.Camara} Megapixeles\")\n",
    "\n",
    "\n",
    "    def TecnologiaConexion(self) -> None:\n",
    "        print(f\"El celular tiene tecnologia  {self.Tecnologia} \")\n",
    "\n",
    "    def Procesador_8(self) -> None:\n",
    "        print(f\"El celular tiene procesador  {self.Procesador} \")"
   ]
  },
  {
   "cell_type": "code",
   "execution_count": 15,
   "metadata": {},
   "outputs": [
    {
     "name": "stdout",
     "output_type": "stream",
     "text": [
      "La camara es de 200 Megapixeles\n",
      "La camara es de 48 Megapixeles\n"
     ]
    }
   ],
   "source": [
    "for Celulares in Pocophone(\"Cinco G\", \"Snapdragon\", \"LED\", \"fm\", 200), Iphone(\"Cuatro G\", \"M2\", \"OLED\", \"Dual\", 48):\n",
    "    Celulares.tomarFoto()"
   ]
  }
 ],
 "metadata": {
  "kernelspec": {
   "display_name": "Python 3",
   "language": "python",
   "name": "python3"
  },
  "language_info": {
   "codemirror_mode": {
    "name": "ipython",
    "version": 3
   },
   "file_extension": ".py",
   "mimetype": "text/x-python",
   "name": "python",
   "nbconvert_exporter": "python",
   "pygments_lexer": "ipython3",
   "version": "3.10.13"
  }
 },
 "nbformat": 4,
 "nbformat_minor": 2
}

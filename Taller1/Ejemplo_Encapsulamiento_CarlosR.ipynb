{
 "cells": [
  {
   "cell_type": "markdown",
   "metadata": {},
   "source": [
    "## Ejercicio Sabado 20 - Carlos Rodriguez"
   ]
  },
  {
   "cell_type": "markdown",
   "metadata": {},
   "source": [
    "### Encapsulamiento"
   ]
  },
  {
   "cell_type": "code",
   "execution_count": 2,
   "metadata": {},
   "outputs": [],
   "source": [
    "from abc import ABC, abstractmethod\n",
    "\n",
    "class Celulares:\n",
    "    def __init__(self, Pantalla: str, Antena: str, Camara: int) -> None:\n",
    "        self._Pantalla = Pantalla\n",
    "        self.Antena = Antena\n",
    "        self.Camara = Camara\n",
    "\n",
    "    @abstractmethod\n",
    "    def Llamar(self) -> None:\n",
    "        pass\n",
    "\n",
    "    @abstractmethod\n",
    "    def cogerSeñal(self) -> None:\n",
    "        pass\n",
    "\n",
    "    @abstractmethod\n",
    "    def tomarFoto(self) -> None:\n",
    "        pass\n"
   ]
  },
  {
   "cell_type": "code",
   "execution_count": 3,
   "metadata": {},
   "outputs": [],
   "source": [
    "class Pocophone(Celulares):\n",
    "    def __init__(self, Tecnologia: str, Procesador: str, Pantalla: str, Antena: str, Camara: int) -> None:\n",
    "        super().__init__(Pantalla=Pantalla, Antena=Antena, Camara=Camara)\n",
    "        self.Tecnologia = Tecnologia\n",
    "        self.Procesador = Procesador\n",
    "\n",
    "    def Tecnologia_5G(self) -> None:\n",
    "        print(f\"El celular tiene tecnologia {self.Tecnologia}\")\n",
    "\n",
    "    def Procesador_8(self) -> None:\n",
    "        print(f\"El celular tiene procesador {self.Procesador}\")\n"
   ]
  },
  {
   "cell_type": "code",
   "execution_count": 4,
   "metadata": {},
   "outputs": [
    {
     "name": "stdout",
     "output_type": "stream",
     "text": [
      "El celular tiene tecnologia Cinco G\n",
      "El celular tiene procesador Snapdragon\n"
     ]
    }
   ],
   "source": [
    "Mi_Cel = Pocophone(\"Cinco G\", \"Snapdragon\", \"LED\", \"fm\", 200)\n",
    "Mi_Cel.Tecnologia_5G()\n",
    "Mi_Cel.Procesador_8()\n"
   ]
  },
  {
   "cell_type": "code",
   "execution_count": 5,
   "metadata": {},
   "outputs": [
    {
     "name": "stdout",
     "output_type": "stream",
     "text": [
      "Pantalla: LED\n",
      "Antena: fm\n",
      "Camara: 200\n"
     ]
    }
   ],
   "source": [
    "print(\"Pantalla:\", Mi_Cel._Pantalla)\n",
    "print(\"Antena:\", Mi_Cel.Antena)\n",
    "print(\"Camara:\", Mi_Cel.Camara)"
   ]
  },
  {
   "cell_type": "code",
   "execution_count": null,
   "metadata": {},
   "outputs": [],
   "source": [
    "print(\"Pantalla:\", Mi_Cel._Pantalla)\n",
    "print(\"Antena:\", Mi_Cel.Antena)\n",
    "print(\"Camara:\", Mi_Cel.Camara)"
   ]
  },
  {
   "cell_type": "code",
   "execution_count": 6,
   "metadata": {},
   "outputs": [
    {
     "name": "stdout",
     "output_type": "stream",
     "text": [
      "Pantalla modificada: LCD\n",
      "Antena modificada: gps\n",
      "Camara modificada: 300\n"
     ]
    }
   ],
   "source": [
    "Mi_Cel._Pantalla = \"LCD\"\n",
    "Mi_Cel.Antena = \"gps\"\n",
    "Mi_Cel.Camara = 300\n",
    "\n",
    "print(\"Pantalla modificada:\", Mi_Cel._Pantalla)\n",
    "print(\"Antena modificada:\", Mi_Cel.Antena)\n",
    "print(\"Camara modificada:\", Mi_Cel.Camara)"
   ]
  },
  {
   "cell_type": "code",
   "execution_count": 7,
   "metadata": {},
   "outputs": [
    {
     "ename": "AttributeError",
     "evalue": "'Pocophone' object has no attribute 'Pantalla'",
     "output_type": "error",
     "traceback": [
      "\u001b[0;31m---------------------------------------------------------------------------\u001b[0m",
      "\u001b[0;31mAttributeError\u001b[0m                            Traceback (most recent call last)",
      "Cell \u001b[0;32mIn[7], line 5\u001b[0m\n\u001b[1;32m      2\u001b[0m Mi_Cel\u001b[38;5;241m.\u001b[39mAntena \u001b[38;5;241m=\u001b[39m \u001b[38;5;124m\"\u001b[39m\u001b[38;5;124mgps\u001b[39m\u001b[38;5;124m\"\u001b[39m\n\u001b[1;32m      3\u001b[0m Mi_Cel\u001b[38;5;241m.\u001b[39mCamara \u001b[38;5;241m=\u001b[39m \u001b[38;5;241m300\u001b[39m\n\u001b[0;32m----> 5\u001b[0m \u001b[38;5;28mprint\u001b[39m(\u001b[38;5;124m\"\u001b[39m\u001b[38;5;124mPantalla modificada:\u001b[39m\u001b[38;5;124m\"\u001b[39m, \u001b[43mMi_Cel\u001b[49m\u001b[38;5;241;43m.\u001b[39;49m\u001b[43mPantalla\u001b[49m)\n\u001b[1;32m      6\u001b[0m \u001b[38;5;28mprint\u001b[39m(\u001b[38;5;124m\"\u001b[39m\u001b[38;5;124mAntena modificada:\u001b[39m\u001b[38;5;124m\"\u001b[39m, Mi_Cel\u001b[38;5;241m.\u001b[39mAntena)\n\u001b[1;32m      7\u001b[0m \u001b[38;5;28mprint\u001b[39m(\u001b[38;5;124m\"\u001b[39m\u001b[38;5;124mCamara modificada:\u001b[39m\u001b[38;5;124m\"\u001b[39m, Mi_Cel\u001b[38;5;241m.\u001b[39mCamara)\n",
      "\u001b[0;31mAttributeError\u001b[0m: 'Pocophone' object has no attribute 'Pantalla'"
     ]
    }
   ],
   "source": [
    "Mi_Cel._Pantalla = \"LCD\"\n",
    "Mi_Cel.Antena = \"gps\"\n",
    "Mi_Cel.Camara = 300\n",
    "\n",
    "print(\"Pantalla modificada:\", Mi_Cel.Pantalla)  ## se llama como si fuera publico al atributo\n",
    "print(\"Antena modificada:\", Mi_Cel._Antena)     ## se llama como si fuera privado al atributo\n",
    "print(\"Camara modificada:\", Mi_Cel.Camara)"
   ]
  }
 ],
 "metadata": {
  "kernelspec": {
   "display_name": "Python 3",
   "language": "python",
   "name": "python3"
  },
  "language_info": {
   "codemirror_mode": {
    "name": "ipython",
    "version": 3
   },
   "file_extension": ".py",
   "mimetype": "text/x-python",
   "name": "python",
   "nbconvert_exporter": "python",
   "pygments_lexer": "ipython3",
   "version": "3.10.13"
  }
 },
 "nbformat": 4,
 "nbformat_minor": 2
}
